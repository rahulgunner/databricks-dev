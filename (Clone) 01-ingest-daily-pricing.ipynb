{
 "cells": [
  {
   "cell_type": "code",
   "execution_count": 0,
   "metadata": {
    "application/vnd.databricks.v1+cell": {
     "cellMetadata": {
      "byteLimit": 2048000,
      "rowLimit": 10000
     },
     "inputWidgets": {},
     "nuid": "0cefb9c3-aec1-4bcc-91cb-d9a6f6d69b04",
     "showTitle": false,
     "tableResultSettingsMap": {},
     "title": ""
    }
   },
   "outputs": [],
   "source": [
    "import pandas as pd\n",
    "import numpy as np\n",
    "from datetime import datetime, date, timedelta\n",
    "from pyspark.sql.functions import *"
   ]
  },
  {
   "cell_type": "code",
   "execution_count": 0,
   "metadata": {
    "application/vnd.databricks.v1+cell": {
     "cellMetadata": {
      "byteLimit": 2048000,
      "implicitDf": true,
      "rowLimit": 10000
     },
     "inputWidgets": {},
     "nuid": "d98635ee-a35f-4ad4-862d-ddb12d336f5a",
     "showTitle": false,
     "tableResultSettingsMap": {},
     "title": ""
    }
   },
   "outputs": [],
   "source": [
    "%sql\n",
    "use catalog `pricing-analytics`;\n",
    "create database if not exists data;"
   ]
  },
  {
   "cell_type": "code",
   "execution_count": 0,
   "metadata": {
    "application/vnd.databricks.v1+cell": {
     "cellMetadata": {
      "byteLimit": 2048000,
      "implicitDf": true,
      "rowLimit": 10000
     },
     "inputWidgets": {},
     "nuid": "9f8d81e8-9870-4f85-bee1-61e4b33c84dd",
     "showTitle": false,
     "tableResultSettingsMap": {},
     "title": ""
    }
   },
   "outputs": [],
   "source": [
    "%sql\n",
    "-- truncate table `pricing-analytics`.data.date_processed"
   ]
  },
  {
   "cell_type": "code",
   "execution_count": 0,
   "metadata": {
    "application/vnd.databricks.v1+cell": {
     "cellMetadata": {
      "byteLimit": 2048000,
      "implicitDf": true,
      "rowLimit": 10000
     },
     "inputWidgets": {},
     "nuid": "fd6ef624-9781-426b-ac91-63cfa1eb08fa",
     "showTitle": false,
     "tableResultSettingsMap": {},
     "title": ""
    }
   },
   "outputs": [],
   "source": [
    "%sql\n",
    "create table if not exists `pricing-analytics`.data.date_processed(\n",
    "  date date \n",
    ")"
   ]
  },
  {
   "cell_type": "code",
   "execution_count": 0,
   "metadata": {
    "application/vnd.databricks.v1+cell": {
     "cellMetadata": {
      "byteLimit": 2048000,
      "rowLimit": 10000
     },
     "inputWidgets": {},
     "nuid": "ef93a5ab-0abb-4027-b0e8-a7202e3efe56",
     "showTitle": false,
     "tableResultSettingsMap": {},
     "title": ""
    }
   },
   "outputs": [],
   "source": [
    "dbutils.widgets.text(\"processed_date\", \"\")"
   ]
  },
  {
   "cell_type": "code",
   "execution_count": 0,
   "metadata": {
    "application/vnd.databricks.v1+cell": {
     "cellMetadata": {
      "byteLimit": 2048000,
      "rowLimit": 10000
     },
     "inputWidgets": {},
     "nuid": "4cc1d355-296f-49c3-b273-f0fe58426322",
     "showTitle": false,
     "tableResultSettingsMap": {},
     "title": ""
    }
   },
   "outputs": [],
   "source": [
    "processed_date = dbutils.widgets.get('processed_date')"
   ]
  },
  {
   "cell_type": "code",
   "execution_count": 0,
   "metadata": {
    "application/vnd.databricks.v1+cell": {
     "cellMetadata": {
      "byteLimit": 2048000,
      "rowLimit": 10000
     },
     "inputWidgets": {},
     "nuid": "cf62af53-f74f-49ef-a2e7-809ac7efe27b",
     "showTitle": false,
     "tableResultSettingsMap": {},
     "title": ""
    }
   },
   "outputs": [],
   "source": [
    "\n",
    "try:\n",
    "  processed_date = datetime.strptime(processed_date, '%Y-%m-%d').date()\n",
    "except:\n",
    "  processed_date = processed_date\n",
    "x=True\n",
    "while x == True:\n",
    "  df = spark.read.table(\"`pricing-analytics`.data.date_processed\")\n",
    "  date_list = df.select(\"date\").rdd.flatMap(lambda x: x).collect()\n",
    "  if processed_date in date_list:\n",
    "    print(\"Data already processed\")\n",
    "    x = False\n",
    "  else:\n",
    "    try:\n",
    "        filename = processed_date.strftime(\"%d%m%Y\")\n",
    "        df1 = pd.read_csv(f\"https://retailpricing.blob.core.windows.net/daily-pricing/PW_MW_DR_{filename}.csv\")\n",
    "        df1 = spark.createDataFrame(df1)\n",
    "        df1.repartition(1).write.mode(\"append\").format('csv').save(f'abfss://pricing-analytics@adlsudemycourse1.dfs.core.windows.net/pricing_files')\n",
    "        spark.sql(f\"\"\"insert into `pricing-analytics`.data.date_processed values (cast('{processed_date}' as date))\"\"\")\n",
    "        print(f\"data processed for : {processed_date}\")\n",
    "        sys.stdout.flush() \n",
    "        processed_date = processed_date + timedelta(days=1)\n",
    "    except Exception as e:\n",
    "      x=False\n",
    "      print(\"Data not available\")\n",
    "\n"
   ]
  },
  {
   "cell_type": "code",
   "execution_count": 0,
   "metadata": {
    "application/vnd.databricks.v1+cell": {
     "cellMetadata": {
      "byteLimit": 2048000,
      "rowLimit": 10000
     },
     "inputWidgets": {},
     "nuid": "75a1d6a2-a406-458e-8e1c-0ec870f65c5d",
     "showTitle": false,
     "tableResultSettingsMap": {},
     "title": ""
    }
   },
   "outputs": [],
   "source": [
    "# dbutils.fs.rm('abfss://pricing-analytics@adlsudemycourse1.dfs.core.windows.net/pricing_files/',True)"
   ]
  },
  {
   "cell_type": "code",
   "execution_count": 0,
   "metadata": {
    "application/vnd.databricks.v1+cell": {
     "cellMetadata": {
      "byteLimit": 2048000,
      "implicitDf": true,
      "rowLimit": 10000
     },
     "inputWidgets": {},
     "nuid": "d45bf957-7ada-409a-b705-73d7081822bd",
     "showTitle": false,
     "tableResultSettingsMap": {},
     "title": ""
    }
   },
   "outputs": [],
   "source": [
    "%sql\n",
    "-- drop table `pricing-analytics`.data.combines"
   ]
  },
  {
   "cell_type": "code",
   "execution_count": 0,
   "metadata": {
    "application/vnd.databricks.v1+cell": {
     "cellMetadata": {
      "byteLimit": 2048000,
      "implicitDf": true,
      "rowLimit": 10000
     },
     "inputWidgets": {},
     "nuid": "22290ba0-2043-4b31-8406-52dc38dbc5d9",
     "showTitle": false,
     "tableResultSettingsMap": {},
     "title": ""
    }
   },
   "outputs": [],
   "source": [
    "%sql\n",
    "create external table `pricing-analytics`.data.combines(\n",
    "    DATE_OF_PRICING   varchar(50),\n",
    "    ROW_ID  varchar(50),\n",
    "    STATE_NAME varchar(50),\n",
    "    MARKET_NAME varchar(50),\n",
    "    PRODUCTGROUP_NAME varchar(50),\n",
    "    PRODUCT_NAME   varchar(50),\n",
    "    VARIETY   varchar(50),\n",
    "    ORIGIN   varchar(50),\n",
    "    ARRIVAL_IN_TONNES varchar(50),\n",
    "    MINIMUM_PRICE   varchar(50),\n",
    "    MAXIMUM_PRICE   varchar(50),\n",
    "    MODAL_PRICE  varchar(50)\n",
    ")\n",
    "using csv\n",
    "Location 'abfss://pricing-analytics@adlsudemycourse1.dfs.core.windows.net/pricing_files/'\n",
    "\n"
   ]
  },
  {
   "cell_type": "markdown",
   "metadata": {
    "application/vnd.databricks.v1+cell": {
     "cellMetadata": {},
     "inputWidgets": {},
     "nuid": "e7f48c6d-c2f8-48de-89cc-de72db528367",
     "showTitle": false,
     "tableResultSettingsMap": {},
     "title": ""
    }
   },
   "source": []
  }
 ],
 "metadata": {
  "application/vnd.databricks.v1+notebook": {
   "computePreferences": null,
   "dashboards": [],
   "environmentMetadata": {
    "base_environment": "",
    "environment_version": "2"
   },
   "inputWidgetPreferences": null,
   "language": "python",
   "notebookMetadata": {
    "mostRecentlyExecutedCommandWithImplicitDF": {
     "commandId": 6795088413023982,
     "dataframes": [
      "_sqldf"
     ]
    },
    "pythonIndentUnit": 4
   },
   "notebookName": "(Clone) 01-ingest-daily-pricing",
   "widgets": {
    "processed_date": {
     "currentValue": "2023-01-01",
     "nuid": "b5413476-2f0b-431c-83cd-41aa54e8e83c",
     "typedWidgetInfo": {
      "autoCreated": false,
      "defaultValue": "",
      "label": null,
      "name": "processed_date",
      "options": {
       "widgetDisplayType": "Text",
       "validationRegex": null
      },
      "parameterDataType": "String"
     },
     "widgetInfo": {
      "widgetType": "text",
      "defaultValue": "",
      "label": null,
      "name": "processed_date",
      "options": {
       "widgetType": "text",
       "autoCreated": null,
       "validationRegex": null
      }
     }
    }
   }
  },
  "language_info": {
   "name": "python"
  }
 },
 "nbformat": 4,
 "nbformat_minor": 0
}
